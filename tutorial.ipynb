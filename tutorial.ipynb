{
 "cells": [
  {
   "cell_type": "markdown",
   "metadata": {},
   "source": [
    "# `multiloan` tutorial\n",
    "This interactive tutorial is a supplement to the [documentation](Documentation.md). It shows examples of using the three classes within `multiloan`:\n",
    "1. `Loan`\n",
    "2. `Multiloan`\n",
    "3. `Payrange`\n",
    "\n",
    "A general note about Jupyter notebooks: you can print the entire docstring for an object by running `?Object` or by placing your cursor after an object and pressing `Shift+tab`. This is helpful in seeing what parameters, functions, and properties each object offers.\n",
    "\n",
    "*Note: If the `payment` you provide when making a loan causes the balance to exceed $1,000,000, you will get an error. If you anticipate your loan exceeding this amount then you can specify a higher amount with the `stop` parameter in the `Loan` object. Of course, another option is to increase the `payment` amount, in hopes of not hitting this limit*"
   ]
  },
  {
   "cell_type": "code",
   "execution_count": 1,
   "metadata": {},
   "outputs": [],
   "source": [
    "from multiloan.loans import Loan, MultiLoan, Payrange\n",
    "import pandas as pd\n",
    "import matplotlib.pyplot as plt\n",
    "import seaborn as sns"
   ]
  },
  {
   "cell_type": "markdown",
   "metadata": {},
   "source": [
    "# `Loan`\n",
    "Describe the features and payment history for a single loan."
   ]
  },
  {
   "cell_type": "code",
   "execution_count": 9,
   "metadata": {},
   "outputs": [
    {
     "data": {
      "text/plain": [
       "Loan(original=$10,000.00, balance=$0.00, rate=0.05)"
      ]
     },
     "execution_count": 9,
     "metadata": {},
     "output_type": "execute_result"
    }
   ],
   "source": [
    "\"\"\"Simulate paying off a single loan\"\"\"\n",
    "principal = 10000\n",
    "rate = .05\n",
    "monthly_payment = 500\n",
    "\n",
    "# n=365 and t=1/12 by default, assuming that `rate` is describing the annual rate\n",
    "loan = Loan(principal, rate, monthly_payment)\n",
    "\n",
    "# Now that we have created the loan object, we can pay it off\n",
    "loan.pay_remaining()\n",
    "loan"
   ]
  },
  {
   "cell_type": "code",
   "execution_count": 47,
   "metadata": {},
   "outputs": [
    {
     "name": "stdout",
     "output_type": "stream",
     "text": [
      "Balances:  [10000.    9541.75  9081.59  8619.51  8155.5   7689.55  7221.65  6751.8\n",
      "  6279.99  5806.21  5330.45  4852.71  4372.97  3891.23  3407.48  2921.71\n",
      "  2433.91  1944.07  1452.19   958.25   462.25     0.  ]\n",
      "Payment amounts:  [  0.   500.   500.   500.   500.   500.   500.   500.   500.   500.\n",
      " 500.   500.   500.   500.   500.   500.   500.   500.   500.   500.\n",
      " 500.   464.18]\n",
      "Total piad:  10464.18\n",
      "\n",
      "Loan DataFrame head:\n"
     ]
    },
    {
     "data": {
      "text/html": [
       "<div>\n",
       "<style scoped>\n",
       "    .dataframe tbody tr th:only-of-type {\n",
       "        vertical-align: middle;\n",
       "    }\n",
       "\n",
       "    .dataframe tbody tr th {\n",
       "        vertical-align: top;\n",
       "    }\n",
       "\n",
       "    .dataframe thead th {\n",
       "        text-align: right;\n",
       "    }\n",
       "</style>\n",
       "<table border=\"1\" class=\"dataframe\">\n",
       "  <thead>\n",
       "    <tr style=\"text-align: right;\">\n",
       "      <th></th>\n",
       "      <th>amount</th>\n",
       "      <th>balance</th>\n",
       "      <th>payment</th>\n",
       "    </tr>\n",
       "  </thead>\n",
       "  <tbody>\n",
       "    <tr>\n",
       "      <th>0</th>\n",
       "      <td>0.0</td>\n",
       "      <td>10000.00</td>\n",
       "      <td>0</td>\n",
       "    </tr>\n",
       "    <tr>\n",
       "      <th>1</th>\n",
       "      <td>500.0</td>\n",
       "      <td>9541.75</td>\n",
       "      <td>1</td>\n",
       "    </tr>\n",
       "    <tr>\n",
       "      <th>2</th>\n",
       "      <td>500.0</td>\n",
       "      <td>9081.59</td>\n",
       "      <td>2</td>\n",
       "    </tr>\n",
       "    <tr>\n",
       "      <th>3</th>\n",
       "      <td>500.0</td>\n",
       "      <td>8619.51</td>\n",
       "      <td>3</td>\n",
       "    </tr>\n",
       "    <tr>\n",
       "      <th>4</th>\n",
       "      <td>500.0</td>\n",
       "      <td>8155.50</td>\n",
       "      <td>4</td>\n",
       "    </tr>\n",
       "  </tbody>\n",
       "</table>\n",
       "</div>"
      ],
      "text/plain": [
       "   amount   balance  payment\n",
       "0     0.0  10000.00        0\n",
       "1   500.0   9541.75        1\n",
       "2   500.0   9081.59        2\n",
       "3   500.0   8619.51        3\n",
       "4   500.0   8155.50        4"
      ]
     },
     "execution_count": 47,
     "metadata": {},
     "output_type": "execute_result"
    }
   ],
   "source": [
    "\"\"\"Review payment history\"\"\"\n",
    "# We can access the balance history \n",
    "print('Balances: ', loan.balances)\n",
    "# Or the payment history\n",
    "print('Payment amounts: ', loan.payments)\n",
    "# Or the total amount paid\n",
    "print('Total piad: ', loan.totalpay)\n",
    "print()\n",
    "\n",
    "# Or, likely most useful, is a dataframe containing all data pertaining to this loan\n",
    "print('Loan DataFrame head:')\n",
    "loan.df.head()"
   ]
  },
  {
   "cell_type": "markdown",
   "metadata": {},
   "source": [
    "# Multiloan\n",
    "Describe the features and payment history of simultaneously paying off multiple loans. Multiple loan data can be provided by providing a list of `Loan` objects or by providing a file that contains data for multiple loans, as is shown in this example."
   ]
  },
  {
   "cell_type": "code",
   "execution_count": 25,
   "metadata": {},
   "outputs": [
    {
     "data": {
      "text/html": [
       "<div>\n",
       "<style scoped>\n",
       "    .dataframe tbody tr th:only-of-type {\n",
       "        vertical-align: middle;\n",
       "    }\n",
       "\n",
       "    .dataframe tbody tr th {\n",
       "        vertical-align: top;\n",
       "    }\n",
       "\n",
       "    .dataframe thead th {\n",
       "        text-align: right;\n",
       "    }\n",
       "</style>\n",
       "<table border=\"1\" class=\"dataframe\">\n",
       "  <thead>\n",
       "    <tr style=\"text-align: right;\">\n",
       "      <th></th>\n",
       "      <th>principal</th>\n",
       "      <th>rate</th>\n",
       "      <th>payment</th>\n",
       "    </tr>\n",
       "  </thead>\n",
       "  <tbody>\n",
       "    <tr>\n",
       "      <th>0</th>\n",
       "      <td>10000</td>\n",
       "      <td>0.05</td>\n",
       "      <td>50</td>\n",
       "    </tr>\n",
       "    <tr>\n",
       "      <th>1</th>\n",
       "      <td>13000</td>\n",
       "      <td>0.06</td>\n",
       "      <td>75</td>\n",
       "    </tr>\n",
       "    <tr>\n",
       "      <th>2</th>\n",
       "      <td>7000</td>\n",
       "      <td>0.03</td>\n",
       "      <td>50</td>\n",
       "    </tr>\n",
       "  </tbody>\n",
       "</table>\n",
       "</div>"
      ],
      "text/plain": [
       "   principal  rate  payment\n",
       "0      10000  0.05       50\n",
       "1      13000  0.06       75\n",
       "2       7000  0.03       50"
      ]
     },
     "execution_count": 25,
     "metadata": {},
     "output_type": "execute_result"
    }
   ],
   "source": [
    "\"\"\"Let's use this file to provide loan data\"\"\"\n",
    "filepath = 'data/tutorial_data.csv'\n",
    "pd.read_csv(filepath)"
   ]
  },
  {
   "cell_type": "code",
   "execution_count": 26,
   "metadata": {},
   "outputs": [
    {
     "data": {
      "text/plain": [
       "Multiloan(loans=3, original=$30,000.00, balance=$0.00)"
      ]
     },
     "execution_count": 26,
     "metadata": {},
     "output_type": "execute_result"
    }
   ],
   "source": [
    "\"\"\"Create and payoff multipleloans\"\"\"\n",
    "# Create\n",
    "ml = MultiLoan(filepath=filepath, payment=1500)\n",
    "# Pay off\n",
    "ml.pay_remaining()\n",
    "ml"
   ]
  },
  {
   "cell_type": "code",
   "execution_count": 27,
   "metadata": {},
   "outputs": [
    {
     "name": "stdout",
     "output_type": "stream",
     "text": [
      "Balances : [30000.   28624.43 27242.06 25852.84 24456.76 23053.75 21643.81 20226.89\n",
      " 18802.96 17371.99 15933.93 14489.3  13038.7  11582.09 10119.46  8650.77\n",
      "  7176.01  5695.16  4209.42  2719.96  1226.77     0.  ]\n",
      "\n",
      "Loan balances: \n",
      " [[10000.    9991.75  9983.47  9975.15  9966.8   9958.41  9949.99  9941.53\n",
      "   9933.04  9924.51  9262.4   7851.07  6433.85  5010.71  3581.63  2146.58\n",
      "    705.54     0.       0.       0.       0.       0.  ]\n",
      " [13000.   11665.16 10323.63  8975.37  7620.36  6258.55  4889.92  3514.43\n",
      "   2132.04   742.73     0.       0.       0.       0.       0.       0.\n",
      "      0.       0.       0.       0.       0.       0.  ]\n",
      " [ 7000.    6967.52  6934.96  6902.32  6869.6   6836.79  6803.9   6770.93\n",
      "   6737.88  6704.75  6671.53  6638.23  6604.85  6571.38  6537.83  6504.19\n",
      "   6470.47  5695.16  4209.42  2719.96  1226.77     0.  ]]\n"
     ]
    }
   ],
   "source": [
    "\"\"\"Get payment history\"\"\"\n",
    "# We can access Multiloan data individually\n",
    "# Like the balance history\n",
    "print('Balances :', ml.balances)\n",
    "# We can also access the balance history for *each* loan\n",
    "print()\n",
    "print('Loan balances: \\n', ml.loan_balances)"
   ]
  },
  {
   "cell_type": "code",
   "execution_count": 36,
   "metadata": {},
   "outputs": [
    {
     "data": {
      "text/html": [
       "<div>\n",
       "<style scoped>\n",
       "    .dataframe tbody tr th:only-of-type {\n",
       "        vertical-align: middle;\n",
       "    }\n",
       "\n",
       "    .dataframe tbody tr th {\n",
       "        vertical-align: top;\n",
       "    }\n",
       "\n",
       "    .dataframe thead th {\n",
       "        text-align: right;\n",
       "    }\n",
       "</style>\n",
       "<table border=\"1\" class=\"dataframe\">\n",
       "  <thead>\n",
       "    <tr style=\"text-align: right;\">\n",
       "      <th>month</th>\n",
       "      <th>0</th>\n",
       "      <th>1</th>\n",
       "      <th>2</th>\n",
       "      <th>3</th>\n",
       "      <th>4</th>\n",
       "      <th>5</th>\n",
       "      <th>6</th>\n",
       "      <th>7</th>\n",
       "      <th>8</th>\n",
       "      <th>9</th>\n",
       "      <th>...</th>\n",
       "      <th>12</th>\n",
       "      <th>13</th>\n",
       "      <th>14</th>\n",
       "      <th>15</th>\n",
       "      <th>16</th>\n",
       "      <th>17</th>\n",
       "      <th>18</th>\n",
       "      <th>19</th>\n",
       "      <th>20</th>\n",
       "      <th>21</th>\n",
       "    </tr>\n",
       "    <tr>\n",
       "      <th>loan</th>\n",
       "      <th></th>\n",
       "      <th></th>\n",
       "      <th></th>\n",
       "      <th></th>\n",
       "      <th></th>\n",
       "      <th></th>\n",
       "      <th></th>\n",
       "      <th></th>\n",
       "      <th></th>\n",
       "      <th></th>\n",
       "      <th></th>\n",
       "      <th></th>\n",
       "      <th></th>\n",
       "      <th></th>\n",
       "      <th></th>\n",
       "      <th></th>\n",
       "      <th></th>\n",
       "      <th></th>\n",
       "      <th></th>\n",
       "      <th></th>\n",
       "      <th></th>\n",
       "    </tr>\n",
       "  </thead>\n",
       "  <tbody>\n",
       "    <tr>\n",
       "      <th>0</th>\n",
       "      <td>0.0</td>\n",
       "      <td>50.0</td>\n",
       "      <td>50.0</td>\n",
       "      <td>50.0</td>\n",
       "      <td>50.0</td>\n",
       "      <td>50.0</td>\n",
       "      <td>50.0</td>\n",
       "      <td>50.0</td>\n",
       "      <td>50.0</td>\n",
       "      <td>50.0</td>\n",
       "      <td>...</td>\n",
       "      <td>1450.0</td>\n",
       "      <td>1450.0</td>\n",
       "      <td>1450.0</td>\n",
       "      <td>1450.0</td>\n",
       "      <td>1450.0</td>\n",
       "      <td>708.49</td>\n",
       "      <td>0.0</td>\n",
       "      <td>0.0</td>\n",
       "      <td>0.0</td>\n",
       "      <td>0.00</td>\n",
       "    </tr>\n",
       "    <tr>\n",
       "      <th>1</th>\n",
       "      <td>0.0</td>\n",
       "      <td>1400.0</td>\n",
       "      <td>1400.0</td>\n",
       "      <td>1400.0</td>\n",
       "      <td>1400.0</td>\n",
       "      <td>1400.0</td>\n",
       "      <td>1400.0</td>\n",
       "      <td>1400.0</td>\n",
       "      <td>1400.0</td>\n",
       "      <td>1400.0</td>\n",
       "      <td>...</td>\n",
       "      <td>0.0</td>\n",
       "      <td>0.0</td>\n",
       "      <td>0.0</td>\n",
       "      <td>0.0</td>\n",
       "      <td>0.0</td>\n",
       "      <td>0.00</td>\n",
       "      <td>0.0</td>\n",
       "      <td>0.0</td>\n",
       "      <td>0.0</td>\n",
       "      <td>0.00</td>\n",
       "    </tr>\n",
       "    <tr>\n",
       "      <th>2</th>\n",
       "      <td>0.0</td>\n",
       "      <td>50.0</td>\n",
       "      <td>50.0</td>\n",
       "      <td>50.0</td>\n",
       "      <td>50.0</td>\n",
       "      <td>50.0</td>\n",
       "      <td>50.0</td>\n",
       "      <td>50.0</td>\n",
       "      <td>50.0</td>\n",
       "      <td>50.0</td>\n",
       "      <td>...</td>\n",
       "      <td>50.0</td>\n",
       "      <td>50.0</td>\n",
       "      <td>50.0</td>\n",
       "      <td>50.0</td>\n",
       "      <td>50.0</td>\n",
       "      <td>791.51</td>\n",
       "      <td>1500.0</td>\n",
       "      <td>1500.0</td>\n",
       "      <td>1500.0</td>\n",
       "      <td>1229.84</td>\n",
       "    </tr>\n",
       "  </tbody>\n",
       "</table>\n",
       "<p>3 rows × 22 columns</p>\n",
       "</div>"
      ],
      "text/plain": [
       "month   0       1       2       3       4       5       6       7       8   \\\n",
       "loan                                                                         \n",
       "0      0.0    50.0    50.0    50.0    50.0    50.0    50.0    50.0    50.0   \n",
       "1      0.0  1400.0  1400.0  1400.0  1400.0  1400.0  1400.0  1400.0  1400.0   \n",
       "2      0.0    50.0    50.0    50.0    50.0    50.0    50.0    50.0    50.0   \n",
       "\n",
       "month      9   ...      12      13      14      15      16      17      18  \\\n",
       "loan           ...                                                           \n",
       "0        50.0  ...  1450.0  1450.0  1450.0  1450.0  1450.0  708.49     0.0   \n",
       "1      1400.0  ...     0.0     0.0     0.0     0.0     0.0    0.00     0.0   \n",
       "2        50.0  ...    50.0    50.0    50.0    50.0    50.0  791.51  1500.0   \n",
       "\n",
       "month      19      20       21  \n",
       "loan                            \n",
       "0         0.0     0.0     0.00  \n",
       "1         0.0     0.0     0.00  \n",
       "2      1500.0  1500.0  1229.84  \n",
       "\n",
       "[3 rows x 22 columns]"
      ]
     },
     "execution_count": 36,
     "metadata": {},
     "output_type": "execute_result"
    }
   ],
   "source": [
    "\"\"\"Payment schedule\"\"\"\n",
    "# One thing we could do is export the payment schedule for each loan\n",
    "loan_payments = ml.loan_payments\n",
    "# Put them in a dataframe\n",
    "lp_df = pd.DataFrame(loan_payments).rename_axis(index='loan', columns='month')\n",
    "# Save\n",
    "# lp_df.to_csv('multiloan_payment_schedule.csv')\n",
    "lp_df"
   ]
  },
  {
   "cell_type": "code",
   "execution_count": 28,
   "metadata": {},
   "outputs": [
    {
     "data": {
      "text/html": [
       "<div>\n",
       "<style scoped>\n",
       "    .dataframe tbody tr th:only-of-type {\n",
       "        vertical-align: middle;\n",
       "    }\n",
       "\n",
       "    .dataframe tbody tr th {\n",
       "        vertical-align: top;\n",
       "    }\n",
       "\n",
       "    .dataframe thead th {\n",
       "        text-align: right;\n",
       "    }\n",
       "</style>\n",
       "<table border=\"1\" class=\"dataframe\">\n",
       "  <thead>\n",
       "    <tr style=\"text-align: right;\">\n",
       "      <th></th>\n",
       "      <th>loan</th>\n",
       "      <th>amount</th>\n",
       "      <th>balance</th>\n",
       "      <th>payment</th>\n",
       "      <th>years</th>\n",
       "    </tr>\n",
       "  </thead>\n",
       "  <tbody>\n",
       "    <tr>\n",
       "      <th>0</th>\n",
       "      <td>loan_0</td>\n",
       "      <td>0.0</td>\n",
       "      <td>10000.00</td>\n",
       "      <td>0</td>\n",
       "      <td>0.000000</td>\n",
       "    </tr>\n",
       "    <tr>\n",
       "      <th>1</th>\n",
       "      <td>loan_0</td>\n",
       "      <td>50.0</td>\n",
       "      <td>9991.75</td>\n",
       "      <td>1</td>\n",
       "      <td>0.083333</td>\n",
       "    </tr>\n",
       "    <tr>\n",
       "      <th>2</th>\n",
       "      <td>loan_0</td>\n",
       "      <td>50.0</td>\n",
       "      <td>9983.47</td>\n",
       "      <td>2</td>\n",
       "      <td>0.166667</td>\n",
       "    </tr>\n",
       "    <tr>\n",
       "      <th>3</th>\n",
       "      <td>loan_0</td>\n",
       "      <td>50.0</td>\n",
       "      <td>9975.15</td>\n",
       "      <td>3</td>\n",
       "      <td>0.250000</td>\n",
       "    </tr>\n",
       "    <tr>\n",
       "      <th>4</th>\n",
       "      <td>loan_0</td>\n",
       "      <td>50.0</td>\n",
       "      <td>9966.80</td>\n",
       "      <td>4</td>\n",
       "      <td>0.333333</td>\n",
       "    </tr>\n",
       "  </tbody>\n",
       "</table>\n",
       "</div>"
      ],
      "text/plain": [
       "     loan  amount   balance  payment     years\n",
       "0  loan_0     0.0  10000.00        0  0.000000\n",
       "1  loan_0    50.0   9991.75        1  0.083333\n",
       "2  loan_0    50.0   9983.47        2  0.166667\n",
       "3  loan_0    50.0   9975.15        3  0.250000\n",
       "4  loan_0    50.0   9966.80        4  0.333333"
      ]
     },
     "execution_count": 28,
     "metadata": {},
     "output_type": "execute_result"
    }
   ],
   "source": [
    "# Again, most conveniently we can access this data with a dataframe\n",
    "# The `loan` column contains data for each loan (loan_0, loan_1, ...) and 'total' which is the sum over all loans\n",
    "ml_df = ml.df\n",
    "# Since each payment is made on a monthly basis, we can convert months->years\n",
    "ml_df['years'] = ml_df.payment/12\n",
    "ml_df.head()"
   ]
  },
  {
   "cell_type": "code",
   "execution_count": 29,
   "metadata": {},
   "outputs": [
    {
     "data": {
      "image/png": "[encoded data removed]",
      "text/plain": [
       "<Figure size 432x288 with 1 Axes>"
      ]
     },
     "metadata": {
      "needs_background": "light"
     },
     "output_type": "display_data"
    }
   ],
   "source": [
    "\"\"\"Visualize balance history for these loans\"\"\"\n",
    "# Create a color palette for the different loans\n",
    "palette = dict(zip(ml_df.loan.unique(), sns.color_palette()))\n",
    "palette['total'] = 'k'\n",
    "\n",
    "sns.lineplot('years', 'balance', 'loan', data=ml_df, palette=palette)\n",
    "plt.show()"
   ]
  },
  {
   "cell_type": "markdown",
   "metadata": {},
   "source": [
    "# Payrange\n",
    "Analyze the total amount paid for a loan/multiloan with a range of recurring payment amounts"
   ]
  },
  {
   "cell_type": "code",
   "execution_count": 6,
   "metadata": {},
   "outputs": [
    {
     "name": "stderr",
     "output_type": "stream",
     "text": [
      "/Users/michaelsilverstein/Documents/Loans/multiloan/loans.py:428: UserWarning: A payment amount was skipped because it surpassed stop criteria\n",
      "  warn('A payment amount was skipped because it surpassed stop criteria')\n"
     ]
    },
    {
     "data": {
      "text/plain": [
       "Payrange(low=200, high=1500)"
      ]
     },
     "execution_count": 6,
     "metadata": {},
     "output_type": "execute_result"
    }
   ],
   "source": [
    "\"\"\"Let's create a payrange with our multiloan\"\"\"\n",
    "# Let's analyze payments from 100->1500 by 100\n",
    "r = range(100, 1600, 100)\n",
    "# Using the previously defined multiloan, `ml`\n",
    "pr = Payrange(ml, r)\n",
    "pr"
   ]
  },
  {
   "cell_type": "markdown",
   "metadata": {},
   "source": [
    "*Notice the warning! It is indicating that at least one of the payment amounts led a loan to hit the `stop` criteria and has thus been exclude from the `Payrange` (hence the low=200 and not 100)*"
   ]
  },
  {
   "cell_type": "code",
   "execution_count": 8,
   "metadata": {},
   "outputs": [
    {
     "data": {
      "text/html": [
       "<div>\n",
       "<style scoped>\n",
       "    .dataframe tbody tr th:only-of-type {\n",
       "        vertical-align: middle;\n",
       "    }\n",
       "\n",
       "    .dataframe tbody tr th {\n",
       "        vertical-align: top;\n",
       "    }\n",
       "\n",
       "    .dataframe thead th {\n",
       "        text-align: right;\n",
       "    }\n",
       "</style>\n",
       "<table border=\"1\" class=\"dataframe\">\n",
       "  <thead>\n",
       "    <tr style=\"text-align: right;\">\n",
       "      <th></th>\n",
       "      <th>amount</th>\n",
       "      <th>total</th>\n",
       "      <th>pct_change</th>\n",
       "      <th>n_payments</th>\n",
       "      <th>loan</th>\n",
       "      <th>n_years</th>\n",
       "    </tr>\n",
       "  </thead>\n",
       "  <tbody>\n",
       "    <tr>\n",
       "      <th>0</th>\n",
       "      <td>200</td>\n",
       "      <td>47607.95</td>\n",
       "      <td>-0.196704</td>\n",
       "      <td>239</td>\n",
       "      <td>total</td>\n",
       "      <td>19.916667</td>\n",
       "    </tr>\n",
       "    <tr>\n",
       "      <th>1</th>\n",
       "      <td>300</td>\n",
       "      <td>38243.27</td>\n",
       "      <td>-0.072418</td>\n",
       "      <td>128</td>\n",
       "      <td>total</td>\n",
       "      <td>10.666667</td>\n",
       "    </tr>\n",
       "    <tr>\n",
       "      <th>2</th>\n",
       "      <td>400</td>\n",
       "      <td>35473.76</td>\n",
       "      <td>-0.038191</td>\n",
       "      <td>89</td>\n",
       "      <td>total</td>\n",
       "      <td>7.416667</td>\n",
       "    </tr>\n",
       "    <tr>\n",
       "      <th>3</th>\n",
       "      <td>500</td>\n",
       "      <td>34118.99</td>\n",
       "      <td>-0.023697</td>\n",
       "      <td>69</td>\n",
       "      <td>total</td>\n",
       "      <td>5.750000</td>\n",
       "    </tr>\n",
       "    <tr>\n",
       "      <th>4</th>\n",
       "      <td>600</td>\n",
       "      <td>33310.47</td>\n",
       "      <td>-0.016171</td>\n",
       "      <td>56</td>\n",
       "      <td>total</td>\n",
       "      <td>4.666667</td>\n",
       "    </tr>\n",
       "  </tbody>\n",
       "</table>\n",
       "</div>"
      ],
      "text/plain": [
       "   amount     total  pct_change  n_payments   loan    n_years\n",
       "0     200  47607.95   -0.196704         239  total  19.916667\n",
       "1     300  38243.27   -0.072418         128  total  10.666667\n",
       "2     400  35473.76   -0.038191          89  total   7.416667\n",
       "3     500  34118.99   -0.023697          69  total   5.750000\n",
       "4     600  33310.47   -0.016171          56  total   4.666667"
      ]
     },
     "execution_count": 8,
     "metadata": {},
     "output_type": "execute_result"
    }
   ],
   "source": [
    "\"\"\"Here is what the payrange dataframe looks like\"\"\"\n",
    "# Extract df\n",
    "pr_df = pr.df\n",
    "# Convert months -> years\n",
    "pr_df['n_years'] = pr_df.n_payments/12\n",
    "pr_df.head()"
   ]
  },
  {
   "cell_type": "code",
   "execution_count": 19,
   "metadata": {},
   "outputs": [
    {
     "data": {
      "image/png": "[encoded data removed]",
      "text/plain": [
       "<Figure size 432x288 with 1 Axes>"
      ]
     },
     "metadata": {
      "needs_background": "light"
     },
     "output_type": "display_data"
    },
    {
     "data": {
      "image/png": "[encoded data removed]",
      "text/plain": [
       "<Figure size 432x288 with 1 Axes>"
      ]
     },
     "metadata": {
      "needs_background": "light"
     },
     "output_type": "display_data"
    },
    {
     "data": {
      "image/png": "[encoded data removed]",
      "text/plain": [
       "<Figure size 432x288 with 1 Axes>"
      ]
     },
     "metadata": {
      "needs_background": "light"
     },
     "output_type": "display_data"
    }
   ],
   "source": [
    "\"\"\"Visualize payrange\"\"\"\n",
    "# Let's look at how the total amount changes\n",
    "sns.lineplot('amount', 'total', 'loan', data=pr_df, palette=palette, marker='o')\n",
    "plt.show()\n",
    "\n",
    "# We could also just look at the total by subsetting the dataframe\n",
    "pr_df_total = pr_df[pr_df.loan.eq('total')]\n",
    "sns.lineplot('amount', 'total', data=pr_df_total, marker='o')\n",
    "plt.show()\n",
    "\n",
    "# We could also look at the number of years per amount instead of the total paid\n",
    "sns.lineplot('amount', 'n_years', data=pr_df_total, palette=palette, marker='o')\n",
    "plt.show()"
   ]
  }
 ],
 "metadata": {
  "kernelspec": {
   "display_name": "Python 3",
   "language": "python",
   "name": "python3"
  },
  "language_info": {
   "codemirror_mode": {
    "name": "ipython",
    "version": 3
   },
   "file_extension": ".py",
   "mimetype": "text/x-python",
   "name": "python",
   "nbconvert_exporter": "python",
   "pygments_lexer": "ipython3",
   "version": "3.6.10"
  }
 },
 "nbformat": 4,
 "nbformat_minor": 4
}
